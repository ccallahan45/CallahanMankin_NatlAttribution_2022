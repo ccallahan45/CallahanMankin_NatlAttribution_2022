{
 "cells": [
  {
   "cell_type": "markdown",
   "metadata": {},
   "source": [
    "# Global mean temperature in leave-one-country-out experiments\n",
    "#### Christopher Callahan\n",
    "#### Christopher.W.Callahan.GR@dartmouth.edu"
   ]
  },
  {
   "cell_type": "markdown",
   "metadata": {},
   "source": [
    "#### Mechanics\n",
    "Dependencies"
   ]
  },
  {
   "cell_type": "code",
   "execution_count": 1,
   "metadata": {},
   "outputs": [],
   "source": [
    "import xarray as xr\n",
    "import numpy as np\n",
    "import sys\n",
    "import os\n",
    "import datetime\n",
    "import pandas as pd\n",
    "import matplotlib.pyplot as plt\n",
    "from mpl_toolkits.basemap import Basemap, cm\n",
    "from matplotlib import rcParams\n",
    "import matplotlib.colors as colors\n",
    "import matplotlib.gridspec as gridspec\n",
    "import seaborn as sns\n",
    "from rasterio import features\n",
    "from affine import Affine\n",
    "import geopandas as gp\n",
    "import descartes\n",
    "import cartopy.crs as ccrs\n",
    "from cartopy.feature import ShapelyFeature\n",
    "import fair\n",
    "from fair.forward import fair_scm\n",
    "from fair.tools.ensemble import tcrecs_generate\n",
    "from scipy import stats\n",
    "from mpl_toolkits.axes_grid1.inset_locator import inset_axes"
   ]
  },
  {
   "cell_type": "markdown",
   "metadata": {},
   "source": [
    "Data locations"
   ]
  },
  {
   "cell_type": "code",
   "execution_count": 2,
   "metadata": {},
   "outputs": [],
   "source": [
    "loc_emissions = \"../Data/Emissions/\"\n",
    "loc_emissions_shares = \"../Data/Emissions/Shares/\"\n",
    "loc_shp = \"../Data/CountryShapefile/\"\n",
    "loc_panel = \"../Data/Panel/\"\n",
    "loc_obs_gmst = \"../GMST/ObsEnsemble/\"\n",
    "loc_fair_gmst = \"../Data/FAIR/GMST/\""
   ]
  },
  {
   "cell_type": "markdown",
   "metadata": {},
   "source": [
    "Shapefile"
   ]
  },
  {
   "cell_type": "code",
   "execution_count": 3,
   "metadata": {},
   "outputs": [],
   "source": [
    "shp = gp.read_file(loc_shp)\n",
    "iso_shp = shp.ISO3.values"
   ]
  },
  {
   "cell_type": "markdown",
   "metadata": {},
   "source": [
    "FaIR documentation"
   ]
  },
  {
   "cell_type": "code",
   "execution_count": 4,
   "metadata": {},
   "outputs": [],
   "source": [
    "#/dartfs-hpc/rc/home/y/f003k8y/.conda/envs/ccallahan/lib/python3.7/site-packages/fair/\n",
    "#https://github.com/OMS-NetZero/FAIR/blob/master/notebooks/Example-Usage.ipynb\n",
    "#https://fair.readthedocs.io/en/latest/examples.html\n",
    "#https://github.com/OMS-NetZero/FAIR"
   ]
  },
  {
   "cell_type": "markdown",
   "metadata": {},
   "source": [
    "#### Analysis"
   ]
  },
  {
   "cell_type": "markdown",
   "metadata": {},
   "source": [
    "Emissions info"
   ]
  },
  {
   "cell_type": "code",
   "execution_count": 5,
   "metadata": {},
   "outputs": [],
   "source": [
    "y1_emissions = 1850\n",
    "y2_emissions = 2014\n",
    "years_emissions = np.arange(y1_emissions,y2_emissions+1,1)\n",
    "time = np.arange(y1_emissions,y2_emissions+1,1)"
   ]
  },
  {
   "cell_type": "markdown",
   "metadata": {},
   "source": [
    "Years over which we'll subtract shares"
   ]
  },
  {
   "cell_type": "code",
   "execution_count": 6,
   "metadata": {},
   "outputs": [],
   "source": [
    "y1_shares = 1960\n",
    "y2_shares = 2014\n",
    "shares_yr_overlap = (years_emissions>=y1_shares) & (years_emissions<=y2_shares)"
   ]
  },
  {
   "cell_type": "markdown",
   "metadata": {},
   "source": [
    "Emissions species"
   ]
  },
  {
   "cell_type": "code",
   "execution_count": 7,
   "metadata": {},
   "outputs": [],
   "source": [
    "species = np.array([\"year\",\"CO2-fossil\",\"CO2-landuse\",\"CH4\",\"N2O\",\"SOx\",\"CO\",\"NMVOC\", \\\n",
    "                   \"NOx\",\"BC\",\"OC\",\"NH3\",\"CF4\",\"C2F6\",\"C6F14\",\"HFC23\",\"HFC32\",\"HFC43-10\", \\\n",
    "                   \"HFC125\",\"HFC134a\",\"HFC143a\",\"HFC227ea\",\"HFC245fa\",\"SF6\",\"CFC11\", \\\n",
    "                   \"CFC12\",\"CFC113\",\"CFC114\",\"CFC115\",\"CCl4\",\"Methyl_chloroform\", \\\n",
    "                   \"HCFC22\",\"HCFC141b\",\"HCFC142b\",\"Halon_1211\",\"Halon_1202\", \\\n",
    "                   \"Halon_1301\",\"Halon_2401\",\"CH3Br\",\"CH3Cl\"])\n",
    "anthro_spp = [\"CH4\",\"NOx\"] # CO2 separately"
   ]
  },
  {
   "cell_type": "markdown",
   "metadata": {},
   "source": [
    "Input FAIR data for historical scenarios"
   ]
  },
  {
   "cell_type": "code",
   "execution_count": 8,
   "metadata": {},
   "outputs": [],
   "source": [
    "from fair.RCPs import rcp26, rcp45, rcp6, rcp85\n",
    "rcp_years = rcp85.Emissions.year\n",
    "hist_emissions = rcp85.Emissions.emissions[(rcp_years>=y1_emissions)&(rcp_years<=y2_emissions),:]\n",
    "hist_emissions_years = rcp_years[(rcp_years>=y1_emissions)&(rcp_years<=y2_emissions)]\n",
    "hist_natural_emissions = fair.ancil.natural.Emissions.emissions[(rcp_years>=y1_emissions)&(rcp_years<=y2_emissions),:]\n",
    "hist_volcanic_forcing = fair.ancil.cmip6_volcanic.Forcing.forcing[(rcp_years>=y1_emissions)&(rcp_years<=y2_emissions),:][:,1]\n",
    "hist_solar_forcing = fair.ancil.cmip6_solar.Forcing.forcing[(rcp_years>=y1_emissions)&(rcp_years<=y2_emissions),:][:,1]\n",
    "hist_emissions_orig = hist_emissions*1.0"
   ]
  },
  {
   "cell_type": "markdown",
   "metadata": {},
   "source": [
    "Replace global with CEDS emissions where possible"
   ]
  },
  {
   "cell_type": "code",
   "execution_count": 9,
   "metadata": {},
   "outputs": [
    {
     "name": "stdout",
     "output_type": "stream",
     "text": [
      "BC\n",
      "CH4\n",
      "CO\n",
      "NH3\n",
      "NMVOC\n",
      "OC\n"
     ]
    }
   ],
   "source": [
    "ceds_spp = [\"BC\",\"CH4\",\"CO\",\"NH3\",\"NMVOC\",\"OC\"] #\"NOx\", NOx units are weird\n",
    "for c in ceds_spp:\n",
    "    print(c)    \n",
    "    spp_in = pd.read_csv(loc_emissions+\"CEDS_v_2019_12_23-final_emissions/CEDS_\"+c+\"_global_emissions_by_fuel_v_2019_12_23.csv\")\n",
    "    spp_vals = spp_in.loc[:,\"X\"+str(y1_emissions):\"X\"+str(y2_emissions)].sum(axis=0).values\n",
    "    hist_emissions[:,list(species).index(c)] = spp_vals/1e3 # convert kt to Mt\n",
    "    \n",
    "# co2 separately bc co2-fossil\n",
    "co2_in = pd.read_csv(loc_emissions+\"CEDS_v_2019_12_23-final_emissions/CEDS_CO2_global_emissions_by_fuel_v_2019_12_23.csv\")\n",
    "hist_emissions[:,1] = co2_in.loc[:,\"X\"+str(y1_emissions):\"X\"+str(y2_emissions)].sum(axis=0).values/(1e6*3.67)"
   ]
  },
  {
   "cell_type": "markdown",
   "metadata": {},
   "source": [
    "LULCF CO$_2$ from Houghton and Nassikas "
   ]
  },
  {
   "cell_type": "code",
   "execution_count": 10,
   "metadata": {},
   "outputs": [],
   "source": [
    "co2_lulcf = xr.open_dataarray(loc_emissions+\"LULCF_National_Carbon_Emissions_Yearly_\"+str(y1_emissions)+\"-\"+str(y2_emissions)+\".nc\")\n",
    "hist_emissions[:,2] = co2_lulcf.sum(dim=\"iso\").values"
   ]
  },
  {
   "cell_type": "markdown",
   "metadata": {},
   "source": [
    "Pre-industrial dataset using 1861-1880 emissions"
   ]
  },
  {
   "cell_type": "code",
   "execution_count": 11,
   "metadata": {},
   "outputs": [],
   "source": [
    "y1_emissions_pic = 1861 # must be greater than or equal to y1_emissions\n",
    "y2_emissions_pic = 1880\n",
    "pic_emissions_baseline = np.mean(hist_emissions[(hist_emissions_years>=y1_emissions_pic)&(hist_emissions_years<=y2_emissions_pic),:],axis=0)\n",
    "#pic_emissions_baseline = np.mean(rcp85.Emissions.emissions[(rcp_years>=y1_emissions_pic)&(rcp_years<=y2_emissions_pic),:],axis=0)\n",
    "pic_emissions = np.broadcast_to(pic_emissions_baseline,(hist_emissions.shape[0],)+pic_emissions_baseline.shape)"
   ]
  },
  {
   "cell_type": "markdown",
   "metadata": {},
   "source": [
    "Consumption-based or territorial accounting"
   ]
  },
  {
   "cell_type": "code",
   "execution_count": 12,
   "metadata": {},
   "outputs": [],
   "source": [
    "accounting = \"Territorial\"\n",
    "if (accounting == \"Consumption\") & (y1_shares < 1990):\n",
    "    print(\"ERROR: Consumption-based accounting not available before 1990!\")"
   ]
  },
  {
   "cell_type": "markdown",
   "metadata": {},
   "source": [
    "Build historical emissions dataset that exclude each country's share over the relevant time period. This will create some jumps when using the 1990-2014 data (i.e., US emissions are included from 1850-1989 and then suddenly stop in 1990). We'll make sure to only calculate the damage estimates over the time period of the shares so this doesn't get too weird. For consumption emissions, we'll shift the fossil fuel emissions, but not the LULCF emissions."
   ]
  },
  {
   "cell_type": "code",
   "execution_count": 13,
   "metadata": {},
   "outputs": [],
   "source": [
    "shares_co2 = xr.open_dataarray(loc_emissions_shares+\"CEDS_National_CO2Emissions_Yearly_Shares_\"+accounting+\"_\"+str(y1_shares)+\"-\"+str(y2_shares)+\".nc\")\n",
    "iso = shares_co2.coords[\"iso\"].values\n",
    "niso = len(iso)"
   ]
  },
  {
   "cell_type": "code",
   "execution_count": 14,
   "metadata": {},
   "outputs": [],
   "source": [
    "hist_emissions_subtract = xr.DataArray(np.zeros((niso,)+hist_emissions.shape),\n",
    "                                       coords=[iso,time,species],\n",
    "                                       dims=[\"iso\",\"time\",\"species\"])\n",
    "\n",
    "# first load hist emissions\n",
    "hist_emissions_subtract[:,:,:] = np.broadcast_to(hist_emissions,(niso,)+hist_emissions.shape)\n",
    "\n",
    "# now loop and subtract emissions for each country over the relevant years\n",
    "for ii in np.arange(0,len(iso),1):\n",
    "    country = iso[ii]\n",
    "    hist_emissions_subtract[ii,:,0] = hist_emissions[:,0]\n",
    "    for ss in np.arange(3,len(species),1): # we'll do CO2 separately\n",
    "        sp = species[ss]\n",
    "        if sp in anthro_spp:\n",
    "            #print(sp)\n",
    "            national_shares_spp = xr.open_dataarray(loc_emissions_shares+\"CEDS_National_\"+sp+\"Emissions_Yearly_Shares_\"+accounting+\"_\"+str(y1_shares)+\"-\"+str(y2_shares)+\".nc\")\n",
    "            hist_emissions_subtract[ii,shares_yr_overlap,ss] = hist_emissions[shares_yr_overlap,ss]*(1 - national_shares_spp.loc[country,:].values)\n",
    "        else:\n",
    "            hist_emissions_subtract[ii,shares_yr_overlap,ss] = hist_emissions[shares_yr_overlap,ss]\n",
    "\n",
    "    # CO2-fossil\n",
    "    hist_emissions_subtract[ii,shares_yr_overlap,1] = hist_emissions[shares_yr_overlap,1]*(1 - shares_co2.loc[country,:].values)\n",
    "    \n",
    "    # CO2-landuse\n",
    "    #hist_emissions_subtract[ii,shares_yr_overlap,2] = hist_emissions[shares_yr_overlap,2]*(1 - shares_co2.loc[country,:].values)\n",
    "    co2_lulcf_country = co2_lulcf.loc[country,y1_shares:y2_shares].values\n",
    "    if len(co2_lulcf_country[~np.isnan(co2_lulcf_country)]) == len(co2_lulcf_country):\n",
    "        hist_emissions_subtract[ii,shares_yr_overlap,2] = co2_lulcf.loc[:,y1_shares:y2_shares].sum(dim=\"iso\") - co2_lulcf_country\n",
    "    else:\n",
    "        hist_emissions_subtract[ii,shares_yr_overlap,2] = co2_lulcf.loc[:,y1_shares:y2_shares].sum(dim=\"iso\")"
   ]
  },
  {
   "cell_type": "markdown",
   "metadata": {},
   "source": [
    "Write out emissions"
   ]
  },
  {
   "cell_type": "code",
   "execution_count": 15,
   "metadata": {},
   "outputs": [],
   "source": [
    "hist_emissions_indiv1 = hist_emissions - hist_emissions_subtract\n",
    "hist_emissions_indiv = hist_emissions_indiv1.loc[:,y1_shares:y2_shares,:]"
   ]
  },
  {
   "cell_type": "code",
   "execution_count": 16,
   "metadata": {},
   "outputs": [
    {
     "name": "stdout",
     "output_type": "stream",
     "text": [
      "/dartfs-hpc/rc/lab/C/CMIG/ccallahan/National_Attribution/Data/Emissions/FAIR_GHGEmissions_Input_Territorial_1960-2014.nc\n"
     ]
    }
   ],
   "source": [
    "hist_emissions_indiv.name = \"emissions\"\n",
    "hist_emissions_indiv.attrs[\"creation_date\"] = str(datetime.datetime.now())\n",
    "hist_emissions_indiv.attrs[\"created_by\"] = \"Christopher Callahan, Christopher.W.Callahan.GR@dartmouth.edu\"\n",
    "hist_emissions_indiv.attrs[\"variable_description\"] = \"National yearly fossil fuel and cement production emissions from all FaIR species\"\n",
    "hist_emissions_indiv.attrs[\"created_from\"] = os.getcwd()+\"/FaIR_Attribution_Ensemble.ipynb\"\n",
    "        \n",
    "fname_out = loc_emissions+\"FAIR_GHGEmissions_Input_\"+accounting+\"_\"+str(y1_shares)+\"-\"+str(y2_shares)+\".nc\"\n",
    "hist_emissions_indiv.to_netcdf(fname_out,mode=\"w\")\n",
    "print(fname_out)"
   ]
  },
  {
   "cell_type": "markdown",
   "metadata": {},
   "source": [
    "Construct ensemble that varies carbon cycle parameters and TCR/ECS"
   ]
  },
  {
   "cell_type": "code",
   "execution_count": 17,
   "metadata": {},
   "outputs": [],
   "source": [
    "nrun = 250\n",
    "run = np.arange(1,nrun+1,1)"
   ]
  },
  {
   "cell_type": "markdown",
   "metadata": {},
   "source": [
    "We'll adapt the approach of Smith et al., GMD, 2018 - we sample the r_0, r_C, and r_T parameters from Gaussian distributions with 5-95% confidence intervals of 13% of the default values. We'll calculate the required s.d. of that distribution using this webpage: https://sphweb.bumc.bu.edu/otlt/MPH-Modules/BS/BS704_Probability/BS704_Probability10.html"
   ]
  },
  {
   "cell_type": "code",
   "execution_count": 18,
   "metadata": {},
   "outputs": [],
   "source": [
    "r0_default = 35\n",
    "rc_default = 0.019\n",
    "rt_default = 4.165\n",
    "\n",
    "ci_upper_scal = 0.13\n",
    "ci_lower_scal = 0.13\n",
    "ci_upper_r0 = r0_default + r0_default*ci_upper_scal\n",
    "ci_lower_r0 = r0_default - r0_default*ci_lower_scal\n",
    "ci_upper_rt = rt_default + rt_default*ci_upper_scal\n",
    "ci_lower_rt = rt_default - rt_default*ci_lower_scal\n",
    "ci_upper_rc = rc_default + rc_default*ci_upper_scal\n",
    "ci_lower_rc = rc_default - rc_default*ci_lower_scal\n",
    "\n",
    "sd_r0 = (ci_upper_r0 - r0_default)/1.645 #1.645 for 95% c.i.\n",
    "sd_rt = (ci_upper_rt - rt_default)/1.645\n",
    "sd_rc = (ci_upper_rc - rc_default)/1.645\n",
    "\n",
    "r0_dist = stats.norm.rvs(size=10000,loc=r0_default,\n",
    "                        scale=sd_r0,random_state=100)\n",
    "rt_dist = stats.norm.rvs(size=10000,loc=rt_default,\n",
    "                        scale=sd_rt,random_state=100)\n",
    "rc_dist = stats.norm.rvs(size=10000,loc=rc_default,\n",
    "                        scale=sd_rc,random_state=100)"
   ]
  },
  {
   "cell_type": "markdown",
   "metadata": {},
   "source": [
    "Sherwood et al. (2020) show that ECS has a mean of 3.2 and a 66% range of 2.6-4.1 (table 11)"
   ]
  },
  {
   "cell_type": "code",
   "execution_count": 19,
   "metadata": {},
   "outputs": [],
   "source": [
    "np.random.seed(100)"
   ]
  },
  {
   "cell_type": "code",
   "execution_count": 20,
   "metadata": {},
   "outputs": [
    {
     "name": "stdout",
     "output_type": "stream",
     "text": [
      "66% range of ECS is 2.6-4.1\n"
     ]
    }
   ],
   "source": [
    "ecs_mu = 3.2\n",
    "ecs_sigma = 0.9\n",
    "ecs_scale = np.exp(ecs_mu)\n",
    "\n",
    "ecs_dist = np.log(stats.lognorm.rvs(s=ecs_sigma,loc=ecs_mu,\n",
    "                               size=100000,scale=ecs_scale,\n",
    "                               random_state=100))\n",
    "pct17 = np.percentile(ecs_dist,17)\n",
    "pct83 = np.percentile(ecs_dist,83)\n",
    "print(\"66% range of ECS is \"+str(np.around(pct17,1))+\"-\"+str(np.around(pct83,1)))\n",
    "\n",
    "# randomly sample nrun values from this overall sample\n",
    "ecs = np.random.choice(ecs_dist,size=nrun,replace=False)\n",
    "#ecs = np.log(stats.lognorm.rvs(s=ecs_sigma,loc=ecs_mu,\n",
    "#                               size=nrun,scale=ecs_scale,\n",
    "#                               random_state=100))"
   ]
  },
  {
   "cell_type": "markdown",
   "metadata": {},
   "source": [
    "They also put the mean of TCR at 1.8, with a 66% range of 1.5-2.2. We'll use the \"realized warming fraction\" (Millar et al, Climatic Change, 2015) multiplied by TCR to get TCR values that satisfy these parameters."
   ]
  },
  {
   "cell_type": "code",
   "execution_count": 21,
   "metadata": {},
   "outputs": [
    {
     "name": "stdout",
     "output_type": "stream",
     "text": [
      "TCR mean is 1.8\n",
      "66% range of TCR is 1.4-2.2\n"
     ]
    }
   ],
   "source": [
    "rwf_loc = 1.8/np.mean(ecs_dist)\n",
    "rwf_scale = 0.005\n",
    "rwf_dist = stats.norm.rvs(loc=rwf_loc,scale=rwf_scale,size=100000,random_state=100)\n",
    "tcr_dist = ecs_dist*rwf_dist\n",
    "print(\"TCR mean is \"+str(np.around(np.mean(tcr_dist),1)))\n",
    "pct17 = np.percentile(tcr_dist,17)\n",
    "pct83 = np.percentile(tcr_dist,83)\n",
    "print(\"66% range of TCR is \"+str(np.around(pct17,1))+\"-\"+str(np.around(pct83,1)))\n",
    "\n",
    "rwf = stats.norm.rvs(loc=rwf_loc,scale=rwf_scale,size=nrun,random_state=100)\n",
    "tcr = rwf*ecs"
   ]
  },
  {
   "cell_type": "code",
   "execution_count": 22,
   "metadata": {},
   "outputs": [],
   "source": [
    "tcrecs_ens = np.transpose(np.array([tcr,ecs]))"
   ]
  },
  {
   "cell_type": "markdown",
   "metadata": {},
   "source": [
    "Then we'll construct the actual ensemble of carbon cycle scalings, such that their percentiles are the same as the TCR/ECS values, to avoid unphysical combinations of these things (Millar et al., 2017)"
   ]
  },
  {
   "cell_type": "code",
   "execution_count": 23,
   "metadata": {},
   "outputs": [],
   "source": [
    "r0_ens = np.zeros(nrun)\n",
    "rc_ens = np.zeros(nrun)\n",
    "rt_ens = np.zeros(nrun)\n",
    "for n in np.arange(0,nrun,1):\n",
    "    tcr_run = tcr_dist[n]\n",
    "    tcr_pctile = stats.percentileofscore(tcr_dist,tcr_run)\n",
    "    r0_ens[n] = np.percentile(r0_dist,tcr_pctile)\n",
    "    rc_ens[n] = np.percentile(rc_dist,tcr_pctile)\n",
    "    rt_ens[n] = np.percentile(rt_dist,tcr_pctile)"
   ]
  },
  {
   "cell_type": "markdown",
   "metadata": {},
   "source": [
    "Run historical and preindustrial ensembles"
   ]
  },
  {
   "cell_type": "code",
   "execution_count": 24,
   "metadata": {},
   "outputs": [],
   "source": [
    "T_global = xr.DataArray(np.zeros((len(time),nrun)),\n",
    "                        coords=[time,run],dims=[\"time\",\"fair_run\"])\n",
    "T_pic = xr.DataArray(np.zeros((len(time),nrun)),\n",
    "                        coords=[time,run],dims=[\"time\",\"fair_run\"])"
   ]
  },
  {
   "cell_type": "code",
   "execution_count": 25,
   "metadata": {},
   "outputs": [
    {
     "name": "stdout",
     "output_type": "stream",
     "text": [
      "0\n",
      "50\n",
      "100\n",
      "150\n",
      "200\n",
      "CPU times: user 35.2 s, sys: 328 ms, total: 35.5 s\n",
      "Wall time: 35.2 s\n"
     ]
    }
   ],
   "source": [
    "%%time\n",
    "\n",
    "for ii in np.arange(0,nrun,1):\n",
    "    \n",
    "    if ((ii == 0) | (np.mod(ii,50)==0)):\n",
    "        print(ii)\n",
    "    \n",
    "    C, F, T_global[:,ii] = fair_scm(emissions=hist_emissions,\n",
    "                                    natural=hist_natural_emissions,\n",
    "                                    F_solar=hist_solar_forcing,\n",
    "                                    F_volcanic=hist_volcanic_forcing,\n",
    "                                    r0=r0_ens[ii],rc=rc_ens[ii],rt=rt_ens[ii],\n",
    "                                    tcrecs=tcrecs_ens[ii,:])\n",
    "    \n",
    "    C, F, T_pic[:,ii] = fair_scm(emissions=pic_emissions,\n",
    "                                 natural=hist_natural_emissions,\n",
    "                                 F_solar=hist_solar_forcing,\n",
    "                                 F_volcanic=hist_volcanic_forcing,\n",
    "                                 r0=r0_ens[ii],rc=rc_ens[ii],rt=rt_ens[ii],\n",
    "                                 tcrecs=tcrecs_ens[ii,:])"
   ]
  },
  {
   "cell_type": "code",
   "execution_count": 26,
   "metadata": {},
   "outputs": [
    {
     "data": {
      "image/png": "[encoded data removed]",
      "text/plain": [
       "<Figure size 648x504 with 1 Axes>"
      ]
     },
     "metadata": {
      "needs_background": "light"
     },
     "output_type": "display_data"
    }
   ],
   "source": [
    "fig = plt.figure(figsize=(9,7))\n",
    "rcParams[\"font.family\"] = \"sans-serif\"\n",
    "rcParams[\"font.sans-serif\"] = [\"Helvetica Neue\"]\n",
    "rcParams[\"font.size\"] = 21.0\n",
    "rcParams[\"axes.linewidth\"] = 1.3\n",
    "rcParams['xtick.major.size'] = 8\n",
    "rcParams['xtick.major.width'] = 1.3\n",
    "rcParams['ytick.major.size'] = 8\n",
    "rcParams['ytick.major.width'] = 1.3\n",
    "\n",
    "gs1 = gridspec.GridSpec(1,1)\n",
    "gs1.update(left=0.12,right=0.92,top=0.9,bottom=0.12,wspace=0.02,hspace=0.3)\n",
    "\n",
    "ax = plt.subplot(gs1[0,0])\n",
    "\n",
    "plt.plot(time,np.mean(T_global,axis=1),\n",
    "        color=\"black\",linewidth=1.5)\n",
    "ax.fill_between(time,\n",
    "               np.percentile(T_global,2.5,axis=1),\n",
    "                np.percentile(T_global,97.5,axis=1),\n",
    "                color=\"black\",alpha=0.15)\n",
    "\n",
    "plt.show()"
   ]
  },
  {
   "cell_type": "code",
   "execution_count": 27,
   "metadata": {},
   "outputs": [
    {
     "data": {
      "image/png": "[encoded data removed]",
      "text/plain": [
       "<Figure size 648x504 with 1 Axes>"
      ]
     },
     "metadata": {
      "needs_background": "light"
     },
     "output_type": "display_data"
    }
   ],
   "source": [
    "fig = plt.figure(figsize=(9,7))\n",
    "rcParams[\"font.family\"] = \"sans-serif\"\n",
    "rcParams[\"font.sans-serif\"] = [\"Helvetica Neue\"]\n",
    "rcParams[\"font.size\"] = 21.0\n",
    "rcParams[\"axes.linewidth\"] = 1.3\n",
    "rcParams['xtick.major.size'] = 8\n",
    "rcParams['xtick.major.width'] = 1.3\n",
    "rcParams['ytick.major.size'] = 8\n",
    "rcParams['ytick.major.width'] = 1.3\n",
    "\n",
    "gs1 = gridspec.GridSpec(1,1)\n",
    "gs1.update(left=0.12,right=0.92,top=0.9,bottom=0.12,wspace=0.02,hspace=0.3)\n",
    "\n",
    "ax = plt.subplot(gs1[0,0])\n",
    "\n",
    "plt.plot(time,np.mean(T_pic,axis=1),\n",
    "        color=\"black\",linewidth=1.5)\n",
    "ax.fill_between(time,\n",
    "               np.percentile(T_pic,2.5,axis=1),\n",
    "                np.percentile(T_pic,97.5,axis=1),\n",
    "                color=\"black\",alpha=0.15)\n",
    "\n",
    "plt.show()"
   ]
  },
  {
   "cell_type": "markdown",
   "metadata": {},
   "source": [
    "Write out"
   ]
  },
  {
   "cell_type": "code",
   "execution_count": 28,
   "metadata": {},
   "outputs": [
    {
     "name": "stdout",
     "output_type": "stream",
     "text": [
      "/dartfs-hpc/rc/lab/C/CMIG/ccallahan/National_Attribution/Data/FAIR/GMST/FAIR_GMST_hist_PIC_PPE250_1850-2014.nc\n"
     ]
    }
   ],
   "source": [
    "y1_out = np.amin(T_global.time.values)\n",
    "y2_out = np.amax(T_global.time.values)\n",
    "\n",
    "fair_ds = xr.Dataset({\"t_global\":([\"time\",\"fair_run\"],T_global),\n",
    "                     \"t_pic\":([\"time\",\"fair_run\"],T_pic)},\n",
    "                    coords={\"time\":([\"time\"],T_global.time.values),\n",
    "                           \"fair_run\":([\"fair_run\"],T_global.fair_run.values)})\n",
    "\n",
    "fair_ds.attrs[\"creation_date\"] = str(datetime.datetime.now())\n",
    "fair_ds.attrs[\"created_by\"] = \"Christopher Callahan, Christopher.W.Callahan.GR@dartmouth.edu\"\n",
    "fair_ds.attrs[\"variable_description\"] = \"T_global and T_pic\"\n",
    "fair_ds.attrs[\"created_from\"] = os.getcwd()+\"/FaIR_Attribution_Ensemble.ipynb\"\n",
    "fair_ds.attrs[\"ensemble_details\"] = \"Perturbed-parameter ensemble for carbon cycle and TCR/ECS\"\n",
    "fair_ds.attrs[\"emissions_subtraction\"] = \"None\"\n",
    "\n",
    "fname_out = loc_fair_gmst+\"FAIR_GMST_hist_PIC_PPE\"+str(nrun)+\"_\"+str(y1_out)+\"-\"+str(y2_out)+\".nc\"\n",
    "fair_ds.to_netcdf(fname_out,mode=\"w\")\n",
    "print(fname_out)"
   ]
  },
  {
   "cell_type": "markdown",
   "metadata": {},
   "source": [
    "Now run leave-one-out experiments"
   ]
  },
  {
   "cell_type": "code",
   "execution_count": 29,
   "metadata": {},
   "outputs": [
    {
     "name": "stdout",
     "output_type": "stream",
     "text": [
      "0\n",
      "50\n",
      "100\n",
      "150\n",
      "200\n",
      "CPU times: user 50min 57s, sys: 20.2 s, total: 51min 17s\n",
      "Wall time: 51min 1s\n"
     ]
    }
   ],
   "source": [
    "%%time\n",
    "\n",
    "T_subtract = xr.DataArray(np.zeros((niso,len(time),nrun)),\n",
    "                          coords=[iso,time,run],\n",
    "                          dims=[\"iso_attr\",\"time\",\"fair_run\"])\n",
    "\n",
    "for ii in np.arange(0,nrun,1):\n",
    "    \n",
    "    if ((ii == 0) | (np.mod(ii,50)==0)):\n",
    "        print(ii)\n",
    "    \n",
    "    for jj in np.arange(0,niso,1):\n",
    "        country = iso[jj]\n",
    "        C, F, T_subtract[jj,:,ii] = fair_scm(emissions=hist_emissions_subtract[jj,:,:].values,\n",
    "                                             natural=hist_natural_emissions,\n",
    "                                             F_solar=hist_solar_forcing,\n",
    "                                             F_volcanic=hist_volcanic_forcing,\n",
    "                                             r0=r0_ens[ii],rc=rc_ens[ii],rt=rt_ens[ii],\n",
    "                                             tcrecs=tcrecs_ens[ii,:])"
   ]
  },
  {
   "cell_type": "markdown",
   "metadata": {},
   "source": [
    "Write out temperature from subtracted runs"
   ]
  },
  {
   "cell_type": "code",
   "execution_count": 30,
   "metadata": {},
   "outputs": [
    {
     "name": "stdout",
     "output_type": "stream",
     "text": [
      "/dartfs-hpc/rc/lab/C/CMIG/ccallahan/National_Attribution/Data/FAIR/GMST/FAIR_GMST_PPE250_territorial_shares1960-2014_1850-2014.nc\n"
     ]
    }
   ],
   "source": [
    "y1_out = np.amin(T_subtract.time.values)\n",
    "y2_out = np.amax(T_subtract.time.values)\n",
    "acc = accounting.lower()\n",
    "\n",
    "fair_ds = xr.Dataset({\"t_global\":([\"time\",\"fair_run\"],T_global),\n",
    "                     \"t_subtract\":([\"iso_attr\",\"time\",\"fair_run\"],T_subtract),\n",
    "                     \"t_pic\":([\"time\",\"fair_run\"],T_pic)},\n",
    "                    coords={\"iso_attr\":([\"iso_attr\"],T_subtract.iso_attr.values),\n",
    "                           \"time\":([\"time\"],T_subtract.time.values),\n",
    "                           \"fair_run\":([\"fair_run\"],T_subtract.fair_run.values)})\n",
    "\n",
    "fair_ds.attrs[\"creation_date\"] = str(datetime.datetime.now())\n",
    "fair_ds.attrs[\"created_by\"] = \"Christopher Callahan, Christopher.W.Callahan.GR@dartmouth.edu\"\n",
    "fair_ds.attrs[\"variable_description\"] = \"t_global, t_subtract, and t_pic (T with emissions set at \"+str(y1_emissions_pic)+\"-\"+str(y2_emissions_pic)+\")\"\n",
    "fair_ds.attrs[\"created_from\"] = os.getcwd()+\"/FaIR_Attribution_Ensemble.ipynb\"\n",
    "fair_ds.attrs[\"ensemble_details\"] = \"Perturbed-parameter ensemble for carbon cycle and TCR/ECS\"\n",
    "fair_ds.attrs[\"emissions_subtraction\"] = \"Leave-one-out country attribution using shares of CEDS emissions\"\n",
    "fair_ds.attrs[\"emissions_accounting\"] = acc+\"-based emissions accounting\"\n",
    "\n",
    "fname_out = loc_fair_gmst+\"FAIR_GMST_PPE\"+str(nrun)+\"_\"+acc+\"_shares\"+str(y1_shares)+\"-\"+str(y2_shares)+\"_\"+str(y1_out)+\"-\"+str(y2_out)+\".nc\"\n",
    "fair_ds.to_netcdf(fname_out,mode=\"w\")\n",
    "print(fname_out)"
   ]
  }
 ],
 "metadata": {
  "kernelspec": {
   "display_name": "Python-base",
   "language": "python",
   "name": "base"
  },
  "language_info": {
   "codemirror_mode": {
    "name": "ipython",
    "version": 3
   },
   "file_extension": ".py",
   "mimetype": "text/x-python",
   "name": "python",
   "nbconvert_exporter": "python",
   "pygments_lexer": "ipython3",
   "version": "3.8.8"
  }
 },
 "nbformat": 4,
 "nbformat_minor": 4
}
