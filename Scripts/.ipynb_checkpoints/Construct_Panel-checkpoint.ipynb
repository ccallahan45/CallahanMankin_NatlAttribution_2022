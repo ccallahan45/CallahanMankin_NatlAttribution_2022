{
 "cells": [
  {
   "cell_type": "markdown",
   "metadata": {},
   "source": [
    "# Building panel data for GDP and temperature\n",
    "#### Christopher Callahan\n",
    "#### Christopher.W.Callahan.GR@dartmouth.edu"
   ]
  },
  {
   "cell_type": "markdown",
   "metadata": {},
   "source": [
    "#### Mechanics\n",
    "Dependencies"
   ]
  },
  {
   "cell_type": "code",
   "execution_count": 1,
   "metadata": {},
   "outputs": [],
   "source": [
    "import xarray as xr\n",
    "import numpy as np\n",
    "import sys\n",
    "import os\n",
    "import datetime\n",
    "import pandas as pd\n",
    "import matplotlib.pyplot as plt\n",
    "from mpl_toolkits.basemap import Basemap, cm\n",
    "from matplotlib import rcParams\n",
    "import matplotlib.gridspec as gridspec\n",
    "import seaborn as sns"
   ]
  },
  {
   "cell_type": "markdown",
   "metadata": {},
   "source": [
    "Data locations"
   ]
  },
  {
   "cell_type": "code",
   "execution_count": 2,
   "metadata": {},
   "outputs": [],
   "source": [
    "loc_gdp = \"../Data/GDP/\"\n",
    "loc_gdp_ppp = \"../Data/GDP/\"\n",
    "loc_tmean = \"../Data/CountryObs/\"\n",
    "loc_precip = \"../Data/CountryObs/\"\n",
    "loc_regions = \"../Data/Regions/\"\n",
    "loc_out = \"../Data/Panel/\""
   ]
  },
  {
   "cell_type": "markdown",
   "metadata": {},
   "source": [
    "Years"
   ]
  },
  {
   "cell_type": "code",
   "execution_count": 3,
   "metadata": {},
   "outputs": [],
   "source": [
    "y1 = 1960\n",
    "y2 = 2014\n",
    "y1_temp = 1900\n",
    "y2_temp = 2015\n",
    "y1_precip = 1900\n",
    "y2_precip = 2015"
   ]
  },
  {
   "cell_type": "markdown",
   "metadata": {},
   "source": [
    "#### Analysis"
   ]
  },
  {
   "cell_type": "markdown",
   "metadata": {},
   "source": [
    "GDP and GDP per capita"
   ]
  },
  {
   "cell_type": "code",
   "execution_count": 4,
   "metadata": {},
   "outputs": [],
   "source": [
    "gdp_panel = pd.read_csv(loc_gdp+\"GDP_Country_Panel.csv\")\n",
    "gpc_panel = pd.read_csv(loc_gdp+\"GDP_PerCap_Country_Panel.csv\")"
   ]
  },
  {
   "cell_type": "code",
   "execution_count": 5,
   "metadata": {},
   "outputs": [],
   "source": [
    "gdp_ppp = pd.read_csv(loc_gdp_ppp+\"worldbank_gdp_pc_ppp_constant2017.csv\")"
   ]
  },
  {
   "cell_type": "markdown",
   "metadata": {},
   "source": [
    "Country-average temp and precip"
   ]
  },
  {
   "cell_type": "code",
   "execution_count": 6,
   "metadata": {},
   "outputs": [],
   "source": [
    "import warnings\n",
    "warnings.filterwarnings(\"ignore\",category=FutureWarning,message=\"'base' in .resample\")"
   ]
  },
  {
   "cell_type": "code",
   "execution_count": 7,
   "metadata": {},
   "outputs": [],
   "source": [
    "def monthly_to_yearly_mean(x):\n",
    "\n",
    "    # calculate annual mean from monthly data\n",
    "    # after weighting for the difference in month length\n",
    "    # x must be data-array with time coord\n",
    "    # xarray must be installed\n",
    "\n",
    "    # x_yr = x.resample(time=\"YS\").mean(dim=\"time\") is wrong\n",
    "    # because it doesn't weight for the # of days in each month\n",
    "\n",
    "    days_in_mon = x.time.dt.days_in_month\n",
    "    wgts = days_in_mon.groupby(\"time.year\")/days_in_mon.groupby(\"time.year\").sum()\n",
    "    ones = xr.where(x.isnull(),0.0,1.0)\n",
    "    x_sum = (x*wgts).resample(time=\"YS\").sum(dim=\"time\")\n",
    "    ones_out = (ones*wgts).resample(time=\"YS\").sum(dim=\"time\")\n",
    "    return(x_sum/ones_out)"
   ]
  },
  {
   "cell_type": "code",
   "execution_count": 8,
   "metadata": {},
   "outputs": [],
   "source": [
    "temp_custom_ds = xr.open_dataset(loc_tmean+\"obsensemble_country_temp_monthly_\"+str(y1_temp)+\"-\"+str(y2_temp)+\".nc\")\n",
    "precip_custom = xr.open_dataarray(loc_precip+\"ObsEnsemble_country_precip_monthly_\"+str(y1_precip)+\"-\"+str(y2_precip)+\".nc\")"
   ]
  },
  {
   "cell_type": "code",
   "execution_count": 10,
   "metadata": {},
   "outputs": [
    {
     "name": "stderr",
     "output_type": "stream",
     "text": [
      "/dartfs-hpc/rc/home/y/f003k8y/.conda/envs/ccallahan/lib/python3.7/site-packages/xarray/core/nanops.py:142: RuntimeWarning: Mean of empty slice\n",
      "  return np.nanmean(a, axis=axis, dtype=dtype)\n"
     ]
    }
   ],
   "source": [
    "temp_custom = temp_custom_ds.temp_ensemble\n",
    "iso_custom = temp_custom.coords[\"iso\"].values\n",
    "\n",
    "temp_custom_yr = monthly_to_yearly_mean(temp_custom) #temp_custom.resample(time=\"YS\").mean(dim=\"time\")\n",
    "temp_custom_yr.coords[\"time\"] = np.arange(y1_temp,y2_temp+1,1)\n",
    "temp_udel_yr = monthly_to_yearly_mean(temp_custom_ds.temp_udel)\n",
    "temp_udel_yr.coords[\"time\"] = np.arange(y1_temp,y2_temp+1,1)\n",
    "temp_20cr_yr = monthly_to_yearly_mean(temp_custom_ds.temp_20cr)\n",
    "temp_20cr_yr.coords[\"time\"] = np.arange(y1_temp,y2_temp+1,1)\n",
    "temp_best_yr = monthly_to_yearly_mean(temp_custom_ds.temp_best)\n",
    "temp_best_yr.coords[\"time\"] = np.arange(y1_temp,y2_temp+1,1)\n",
    "\n",
    "precip_custom_yr = precip_custom.resample(time=\"YS\").mean(dim=\"time\")\n",
    "precip_custom_yr.coords[\"time\"] = np.arange(y1_precip,y2_precip+1,1)"
   ]
  },
  {
   "cell_type": "markdown",
   "metadata": {},
   "source": [
    "Create new dataframe"
   ]
  },
  {
   "cell_type": "code",
   "execution_count": 11,
   "metadata": {},
   "outputs": [],
   "source": [
    "nc = len(iso_custom)\n",
    "years = np.arange(y1,y2+1,1)\n",
    "years_repeat = np.tile(years,nc).flatten()\n",
    "iso_repeat = np.repeat(iso_custom,len(years))"
   ]
  },
  {
   "cell_type": "code",
   "execution_count": 12,
   "metadata": {},
   "outputs": [],
   "source": [
    "gdp_temp_panel = pd.DataFrame(np.transpose([years_repeat,iso_repeat]),columns=[\"Year\",\"ISO\"])"
   ]
  },
  {
   "cell_type": "markdown",
   "metadata": {},
   "source": [
    "Combine data"
   ]
  },
  {
   "cell_type": "code",
   "execution_count": 13,
   "metadata": {},
   "outputs": [],
   "source": [
    "gdp_df = gdp_panel.drop(columns=[\"CountryName\"]).rename(columns={\"CountryCode\":\"ISO\"})\n",
    "gdp_temp_panel = pd.merge(gdp_temp_panel,gdp_df,on=[\"Year\",\"ISO\"],how=\"left\")\n",
    "gpc_df = gpc_panel.drop(columns=[\"CountryName\"]).rename(columns={\"CountryCode\":\"ISO\"})\n",
    "gdp_temp_panel = pd.merge(gdp_temp_panel,gpc_df,on=[\"Year\",\"ISO\"],how=\"left\")"
   ]
  },
  {
   "cell_type": "code",
   "execution_count": 14,
   "metadata": {},
   "outputs": [],
   "source": [
    "temp_custom_yr.name = \"Temp\"\n",
    "temp_df = temp_custom_yr.rename({\"iso\":\"ISO\",\"time\":\"Year\"}).to_dataframe().reset_index()\n",
    "temp_udel_yr.name = \"Temp_UDel\"\n",
    "temp_udel_df = temp_udel_yr.rename({\"iso\":\"ISO\",\"time\":\"Year\"}).to_dataframe().reset_index()\n",
    "temp_20cr_yr.name = \"Temp_20cr\"\n",
    "temp_20cr_df = temp_20cr_yr.rename({\"iso\":\"ISO\",\"time\":\"Year\"}).to_dataframe().reset_index()\n",
    "temp_best_yr.name = \"Temp_BEST\"\n",
    "temp_best_df = temp_best_yr.rename({\"iso\":\"ISO\",\"time\":\"Year\"}).to_dataframe().reset_index()\n",
    "\n",
    "gdp_temp_panel = pd.merge(gdp_temp_panel,temp_df,on=[\"Year\",\"ISO\"],how=\"left\")\n",
    "gdp_temp_panel = pd.merge(gdp_temp_panel,temp_udel_df,on=[\"Year\",\"ISO\"],how=\"left\")\n",
    "gdp_temp_panel = pd.merge(gdp_temp_panel,temp_20cr_df,on=[\"Year\",\"ISO\"],how=\"left\")\n",
    "gdp_temp_panel = pd.merge(gdp_temp_panel,temp_best_df,on=[\"Year\",\"ISO\"],how=\"left\")\n",
    "\n",
    "precip_custom_yr.name = \"Precip\"\n",
    "precip_df = precip_custom_yr.rename({\"iso\":\"ISO\",\"time\":\"Year\"}).to_dataframe().reset_index()\n",
    "gdp_temp_panel = pd.merge(gdp_temp_panel,precip_df,on=[\"Year\",\"ISO\"],how=\"left\")"
   ]
  },
  {
   "cell_type": "markdown",
   "metadata": {},
   "source": [
    "Year-1990 PPP GDP"
   ]
  },
  {
   "cell_type": "code",
   "execution_count": 15,
   "metadata": {},
   "outputs": [],
   "source": [
    "gdp_ppp_yr = gdp_ppp.loc[:,[\"Country Code\",\"1990\"]].rename(columns={\"Country Code\":\"ISO\",\"1990\":\"GPC_PPP_1990\"})\n",
    "gdp_temp_panel = pd.merge(gdp_temp_panel,gdp_ppp_yr,on=[\"ISO\"],how=\"left\")"
   ]
  },
  {
   "cell_type": "markdown",
   "metadata": {},
   "source": [
    "Add country/year info and trends"
   ]
  },
  {
   "cell_type": "code",
   "execution_count": 16,
   "metadata": {},
   "outputs": [],
   "source": [
    "countries = gdp_temp_panel.loc[:,\"ISO\"].values\n",
    "countries_sorted = list(sorted(set(countries)))\n",
    "years = gdp_temp_panel.loc[:,\"Year\"].values\n",
    "\n",
    "zrs_ctry = np.zeros(len(years))\n",
    "for i in np.arange(0,len(countries_sorted),1):\n",
    "    zrs_lin = np.zeros(len(years))\n",
    "    zrs_quad = np.zeros(len(years))\n",
    "    indices = countries == countries_sorted[i]\n",
    "    y_lin = years[indices] - y1\n",
    "    y_quad = y_lin**2\n",
    "    zrs_lin[indices] = y_lin\n",
    "    zrs_quad[indices] = y_quad\n",
    "    \n",
    "    indices_num = indices.astype(int)\n",
    "    zrs_ctry[indices] = [i+1] * len(indices_num[indices_num == 1])\n",
    "    \n",
    "    gdp_temp_panel.loc[:,\"yi_linear_\"+str(i)] = zrs_lin\n",
    "    gdp_temp_panel.loc[:,\"yi_quadratic_\"+str(i)] = zrs_quad\n",
    "    \n",
    "gdp_temp_panel.loc[:,\"countrynum\"] = zrs_ctry"
   ]
  },
  {
   "cell_type": "markdown",
   "metadata": {},
   "source": [
    "First difference of the natural log for growth"
   ]
  },
  {
   "cell_type": "code",
   "execution_count": 17,
   "metadata": {},
   "outputs": [],
   "source": [
    "gdp_temp_panel.loc[:,\"lnGPC\"] = np.log(gdp_temp_panel.loc[:,\"GPC\"])"
   ]
  },
  {
   "cell_type": "code",
   "execution_count": 18,
   "metadata": {},
   "outputs": [],
   "source": [
    "growth = np.zeros(len(years))\n",
    "for i in np.arange(0,len(countries_sorted),1):\n",
    "    indices = countries == countries_sorted[i]\n",
    "    gpc_ctry = gdp_temp_panel.loc[indices,\"lnGPC\"].values\n",
    "    diff = np.diff(gpc_ctry)\n",
    "    diffnan = np.insert(diff,0,np.nan)\n",
    "    indices_num = indices.astype(int)\n",
    "    growth[indices] = diffnan\n",
    "    \n",
    "gdp_temp_panel.loc[:,\"growth\"] = growth"
   ]
  },
  {
   "cell_type": "markdown",
   "metadata": {},
   "source": [
    "Regions (i.e., continents)"
   ]
  },
  {
   "cell_type": "code",
   "execution_count": 19,
   "metadata": {},
   "outputs": [],
   "source": [
    "regions = pd.read_csv(loc_regions+\"WPP2019_Regions_Processed.csv\")"
   ]
  },
  {
   "cell_type": "code",
   "execution_count": 20,
   "metadata": {},
   "outputs": [],
   "source": [
    "gdp_temp_panel[\"region\"] = np.full(len(years),np.nan)\n",
    "for i in np.arange(0,len(iso_repeat),1):\n",
    "    code = iso_repeat[i]\n",
    "    if code in regions.ISO3.values:\n",
    "        reg = regions.loc[regions.ISO3.values==code,\"RegionCode\"].values[0]\n",
    "        gdp_temp_panel.loc[gdp_temp_panel.ISO.values==code,\"region\"] = reg"
   ]
  },
  {
   "cell_type": "markdown",
   "metadata": {},
   "source": [
    "Write out"
   ]
  },
  {
   "cell_type": "code",
   "execution_count": 21,
   "metadata": {},
   "outputs": [],
   "source": [
    "gdp_temp_panel.to_csv(loc_out+\"Attribution_DamageFunction_Panel.csv\")"
   ]
  }
 ],
 "metadata": {
  "kernelspec": {
   "display_name": "Python-base",
   "language": "python",
   "name": "base"
  },
  "language_info": {
   "codemirror_mode": {
    "name": "ipython",
    "version": 3
   },
   "file_extension": ".py",
   "mimetype": "text/x-python",
   "name": "python",
   "nbconvert_exporter": "python",
   "pygments_lexer": "ipython3",
   "version": "3.8.8"
  }
 },
 "nbformat": 4,
 "nbformat_minor": 4
}
