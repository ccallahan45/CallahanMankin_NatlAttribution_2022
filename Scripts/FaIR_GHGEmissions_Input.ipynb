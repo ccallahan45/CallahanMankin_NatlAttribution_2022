{
 "cells": [
  {
   "cell_type": "markdown",
   "metadata": {},
   "source": [
    "# National shares of global GHG emissions\n",
    "#### Christopher Callahan\n",
    "#### Christopher.W.Callahan.GR@dartmouth.edu"
   ]
  },
  {
   "cell_type": "markdown",
   "metadata": {},
   "source": [
    "#### Mechanics\n",
    "Dependencies"
   ]
  },
  {
   "cell_type": "code",
   "execution_count": 1,
   "metadata": {},
   "outputs": [],
   "source": [
    "import xarray as xr\n",
    "import numpy as np\n",
    "import sys\n",
    "import os\n",
    "import datetime\n",
    "import pandas as pd\n",
    "import geopandas as gp\n",
    "import descartes"
   ]
  },
  {
   "cell_type": "markdown",
   "metadata": {},
   "source": [
    "Data locations"
   ]
  },
  {
   "cell_type": "code",
   "execution_count": 2,
   "metadata": {},
   "outputs": [],
   "source": [
    "loc_emissions = \"../Data/Emissions/\"\n",
    "loc_shp = \"../Data/CountryShapefile/\"\n",
    "loc_shares = \"../Data/Emissions/Shares/\""
   ]
  },
  {
   "cell_type": "markdown",
   "metadata": {},
   "source": [
    "Shapefile"
   ]
  },
  {
   "cell_type": "code",
   "execution_count": 3,
   "metadata": {},
   "outputs": [],
   "source": [
    "shp = gp.read_file(loc_shp)\n",
    "iso_shp = shp.ISO3.values"
   ]
  },
  {
   "cell_type": "markdown",
   "metadata": {},
   "source": [
    "Species"
   ]
  },
  {
   "cell_type": "code",
   "execution_count": 4,
   "metadata": {},
   "outputs": [],
   "source": [
    "ceds_species = [\"CH4\",\"CO2\",\"NOx\"]"
   ]
  },
  {
   "cell_type": "markdown",
   "metadata": {},
   "source": [
    "Years"
   ]
  },
  {
   "cell_type": "code",
   "execution_count": 5,
   "metadata": {},
   "outputs": [],
   "source": [
    "y1_in = 1750\n",
    "y2_in = 2014\n",
    "\n",
    "y1 = 1850\n",
    "y2 = 2014\n",
    "years = np.arange(y1,y2+1,1)"
   ]
  },
  {
   "cell_type": "markdown",
   "metadata": {},
   "source": [
    "#### Analysis"
   ]
  },
  {
   "cell_type": "markdown",
   "metadata": {},
   "source": [
    "Read in global carbon project territorial vs. consumption for later"
   ]
  },
  {
   "cell_type": "code",
   "execution_count": 6,
   "metadata": {},
   "outputs": [],
   "source": [
    "natl_emissions_territorial = pd.read_csv(loc_emissions+\"NationalEmissions_Territorial.csv\",header=None)\n",
    "natl_emissions_consumption = pd.read_csv(loc_emissions+\"NationalEmissions_Consumption.csv\",header=None)"
   ]
  },
  {
   "cell_type": "code",
   "execution_count": 7,
   "metadata": {},
   "outputs": [],
   "source": [
    "iso_lookup = pd.read_csv(loc_emissions+\"ISO_Lookup_for_Consumption.csv\")\n",
    "iso_lookup_dict = {}\n",
    "for i in np.arange(0,len(iso_lookup.ISOCODE.values),1):\n",
    "    isocode = iso_lookup.iloc[i,:][\"ISOCODE\"]\n",
    "    name = iso_lookup.iloc[i,:][\"NAME\"]\n",
    "    iso_lookup_dict[isocode] = name"
   ]
  },
  {
   "cell_type": "markdown",
   "metadata": {},
   "source": [
    "Now calculate territorial and consumption-based shares of the species we're interested in"
   ]
  },
  {
   "cell_type": "code",
   "execution_count": 8,
   "metadata": {},
   "outputs": [
    {
     "name": "stdout",
     "output_type": "stream",
     "text": [
      "CH4\n",
      "Territorial\n",
      "/dartfs-hpc/rc/lab/C/CMIG/ccallahan/National_Attribution/Data/Emissions/Shares/CEDS_National_CH4Emissions_Yearly_Shares_Territorial_1850-2014.nc\n",
      "Territorial\n",
      "/dartfs-hpc/rc/lab/C/CMIG/ccallahan/National_Attribution/Data/Emissions/Shares/CEDS_National_CH4Emissions_Yearly_Shares_Territorial_1960-2014.nc\n",
      "Territorial\n",
      "/dartfs-hpc/rc/lab/C/CMIG/ccallahan/National_Attribution/Data/Emissions/Shares/CEDS_National_CH4Emissions_Yearly_Shares_Territorial_1990-2014.nc\n",
      "Consumption\n"
     ]
    },
    {
     "name": "stderr",
     "output_type": "stream",
     "text": [
      "/dartfs-hpc/rc/home/y/f003k8y/.conda/envs/ccallahan/lib/python3.7/site-packages/ipykernel_launcher.py:86: RuntimeWarning: divide by zero encountered in true_divide\n",
      "/dartfs-hpc/rc/home/y/f003k8y/.conda/envs/ccallahan/lib/python3.7/site-packages/ipykernel_launcher.py:86: RuntimeWarning: invalid value encountered in true_divide\n"
     ]
    },
    {
     "name": "stdout",
     "output_type": "stream",
     "text": [
      "/dartfs-hpc/rc/lab/C/CMIG/ccallahan/National_Attribution/Data/Emissions/Shares/CEDS_National_CH4Emissions_Yearly_Shares_Consumption_1990-2014.nc\n",
      "CO2\n",
      "Territorial\n",
      "/dartfs-hpc/rc/lab/C/CMIG/ccallahan/National_Attribution/Data/Emissions/Shares/CEDS_National_CO2Emissions_Yearly_Shares_Territorial_1850-2014.nc\n",
      "/dartfs-hpc/rc/lab/C/CMIG/ccallahan/National_Attribution/Data/Emissions/Shares/CEDS_Valid_Countries_Territorial_1850-2014.nc\n",
      "Territorial\n",
      "/dartfs-hpc/rc/lab/C/CMIG/ccallahan/National_Attribution/Data/Emissions/Shares/CEDS_National_CO2Emissions_Yearly_Shares_Territorial_1960-2014.nc\n",
      "/dartfs-hpc/rc/lab/C/CMIG/ccallahan/National_Attribution/Data/Emissions/Shares/CEDS_Valid_Countries_Territorial_1960-2014.nc\n",
      "Territorial\n",
      "/dartfs-hpc/rc/lab/C/CMIG/ccallahan/National_Attribution/Data/Emissions/Shares/CEDS_National_CO2Emissions_Yearly_Shares_Territorial_1990-2014.nc\n",
      "/dartfs-hpc/rc/lab/C/CMIG/ccallahan/National_Attribution/Data/Emissions/Shares/CEDS_Valid_Countries_Territorial_1990-2014.nc\n",
      "Consumption\n"
     ]
    },
    {
     "name": "stderr",
     "output_type": "stream",
     "text": [
      "/dartfs-hpc/rc/home/y/f003k8y/.conda/envs/ccallahan/lib/python3.7/site-packages/ipykernel_launcher.py:86: RuntimeWarning: divide by zero encountered in true_divide\n",
      "/dartfs-hpc/rc/home/y/f003k8y/.conda/envs/ccallahan/lib/python3.7/site-packages/ipykernel_launcher.py:86: RuntimeWarning: invalid value encountered in true_divide\n"
     ]
    },
    {
     "name": "stdout",
     "output_type": "stream",
     "text": [
      "/dartfs-hpc/rc/lab/C/CMIG/ccallahan/National_Attribution/Data/Emissions/Shares/CEDS_National_CO2Emissions_Yearly_Shares_Consumption_1990-2014.nc\n",
      "/dartfs-hpc/rc/lab/C/CMIG/ccallahan/National_Attribution/Data/Emissions/Shares/CEDS_Valid_Countries_Consumption_1990-2014.nc\n",
      "NOx\n",
      "Territorial\n",
      "/dartfs-hpc/rc/lab/C/CMIG/ccallahan/National_Attribution/Data/Emissions/Shares/CEDS_National_NOxEmissions_Yearly_Shares_Territorial_1850-2014.nc\n",
      "Territorial\n",
      "/dartfs-hpc/rc/lab/C/CMIG/ccallahan/National_Attribution/Data/Emissions/Shares/CEDS_National_NOxEmissions_Yearly_Shares_Territorial_1960-2014.nc\n",
      "Territorial\n",
      "/dartfs-hpc/rc/lab/C/CMIG/ccallahan/National_Attribution/Data/Emissions/Shares/CEDS_National_NOxEmissions_Yearly_Shares_Territorial_1990-2014.nc\n",
      "Consumption\n"
     ]
    },
    {
     "name": "stderr",
     "output_type": "stream",
     "text": [
      "/dartfs-hpc/rc/home/y/f003k8y/.conda/envs/ccallahan/lib/python3.7/site-packages/ipykernel_launcher.py:86: RuntimeWarning: divide by zero encountered in true_divide\n",
      "/dartfs-hpc/rc/home/y/f003k8y/.conda/envs/ccallahan/lib/python3.7/site-packages/ipykernel_launcher.py:86: RuntimeWarning: invalid value encountered in true_divide\n"
     ]
    },
    {
     "name": "stdout",
     "output_type": "stream",
     "text": [
      "/dartfs-hpc/rc/lab/C/CMIG/ccallahan/National_Attribution/Data/Emissions/Shares/CEDS_National_NOxEmissions_Yearly_Shares_Consumption_1990-2014.nc\n"
     ]
    }
   ],
   "source": [
    "for s in np.arange(0,len(ceds_species),1):\n",
    "    species = ceds_species[s]\n",
    "    print(species)\n",
    "    \n",
    "    ceds_global_emissions_in = pd.read_csv(loc_emissions+\"CEDS_v_2019_12_23-final_emissions/CEDS_\"+species+\"_global_emissions_by_fuel_v_2019_12_23.csv\")\n",
    "    ceds_global_emissions = ceds_global_emissions_in.loc[:,\"X\"+str(y1):\"X\"+str(y2)].sum(axis=0).values\n",
    "    ceds_global_emissions_cumul = np.cumsum(ceds_global_emissions)\n",
    "     \n",
    "    ceds_emissions_in = pd.read_csv(loc_emissions+\"CEDS_v_2019_12_23-final_emissions/CEDS_\"+species+\"_emissions_by_country_v_2019_12_23.csv\")\n",
    "    ceds_emissions = xr.DataArray(np.full((len(iso_shp),len(years)),np.nan),\n",
    "                         coords=[iso_shp,years],\n",
    "                         dims=[\"iso\",\"time\"])\n",
    "    ceds_iso = ceds_emissions_in[\"iso\"].values\n",
    "\n",
    "    \n",
    "    for ii in np.arange(0,len(iso_shp),1):\n",
    "        i = iso_shp[ii]\n",
    "        ystr1 = str(y1)\n",
    "        ystr2 = str(y2)\n",
    "        if i.lower() in ceds_iso:\n",
    "            ceds_emissions.loc[i,:] = ceds_emissions_in.loc[ceds_emissions_in[\"iso\"].values==i.lower(),\"X\"+ystr1:\"X\"+ystr2].values[0]\n",
    "        else:\n",
    "            ceds_emissions.loc[i,:] = np.full(len(years),np.nan)\n",
    "            \n",
    "    # change units if necessary\n",
    "    if species == \"CO2\":\n",
    "        scaling = (1e6*3.67)\n",
    "        unit = \"GtC\"\n",
    "    if species == \"CH4\":\n",
    "        unit = \"Mt\"\n",
    "        scaling = 1e3\n",
    "        \n",
    "    # CO2 should be in units of GtC\n",
    "    # CH4 should be units of Mt (starts in kt)\n",
    "    # NOx should be units of MtN -- no easy way to do this conversion so\n",
    "         # we'll just calculate shares and not absolute amounts\n",
    "        \n",
    "    emissions_shares = xr.DataArray(np.full((len(iso_shp),len(years)),np.nan),\n",
    "                                    coords=[iso_shp,years],\n",
    "                                    dims=[\"iso\",\"time\"])\n",
    "    \n",
    "    for ii in np.arange(0,len(iso_shp),1):\n",
    "        emissions_iso = np.where(np.isnan(ceds_emissions.loc[iso_shp[ii],:].values),0,ceds_emissions.loc[iso_shp[ii],:].values)\n",
    "        emissions_shares[ii,:] = emissions_iso/ceds_global_emissions\n",
    "    \n",
    "    for j in np.arange(0,4,1):\n",
    "        if j < 3:\n",
    "            accounting = \"Territorial\"\n",
    "        else:\n",
    "            accounting = \"Consumption\"\n",
    "        print(accounting)\n",
    "        \n",
    "        if j == 0:\n",
    "            y1_out = 1850\n",
    "            y2_out = 2014\n",
    "        elif j == 1:\n",
    "            y1_out = 1960\n",
    "            y2_out = 2014\n",
    "        else:\n",
    "            y1_out = 1990\n",
    "            y2_out = 2014\n",
    "        yrs_out = np.arange(y1_out,y2_out+1,1) \n",
    "        \n",
    "        if accounting == \"Territorial\":\n",
    "            # no alterations to account for consumption-based emissions\n",
    "            accounting_scaling = 1\n",
    "            \n",
    "        elif accounting == \"Consumption\":\n",
    "            \n",
    "            accounting_scaling = xr.DataArray(np.full((len(iso_shp),len(yrs_out)),np.nan),\n",
    "                                              coords=[iso_shp,yrs_out],\n",
    "                                              dims=[\"iso\",\"time\"])\n",
    "            yr_indices = (natl_emissions_territorial.iloc[:,0].values>=y1_out)&(natl_emissions_territorial.iloc[:,0].values<=y2_out)\n",
    "            \n",
    "            for kk in np.arange(0,len(iso_shp),1):\n",
    "                \n",
    "                iso_code_lookup = iso_lookup_dict[iso_shp[kk]].upper()\n",
    "                in_emissions_data = iso_code_lookup in natl_emissions_territorial.loc[0,:].values\n",
    "                \n",
    "                if iso_code_lookup in natl_emissions_territorial.loc[0,:].values:\n",
    "                    territorial_str_vals = natl_emissions_territorial.loc[yr_indices,natl_emissions_territorial.loc[0,:].values==iso_code_lookup].values\n",
    "                    consumption_str_vals = natl_emissions_consumption.loc[yr_indices,natl_emissions_consumption.loc[0,:].values==iso_code_lookup].values\n",
    "                    territorial_vals = np.array([float(y) for y in territorial_str_vals])\n",
    "                    consumption_vals = np.array([float(y) for y in consumption_str_vals])\n",
    "\n",
    "                    accounting_scaling[kk,:] = consumption_vals/territorial_vals\n",
    "                    \n",
    "        emissions_shares_out = emissions_shares.loc[:,y1_out:y2_out]*accounting_scaling\n",
    "        emissions_shares_out.name = \"shares\"\n",
    "        emissions_shares_out.attrs[\"creation_date\"] = str(datetime.datetime.now())\n",
    "        emissions_shares_out.attrs[\"created_by\"] = \"Christopher Callahan, Christopher.W.Callahan.GR@dartmouth.edu\"\n",
    "        emissions_shares_out.attrs[\"variable_description\"] = \"National shares of yearly fossil fuel and cement production emissions from \"+species\n",
    "        emissions_shares_out.attrs[\"created_from\"] = os.getcwd()+\"/FaIR_GHGEmissions_Input.ipynb\"\n",
    "        \n",
    "        fname_out = loc_shares+\"CEDS_National_\"+species+\"Emissions_Yearly_Shares_\"+accounting+\"_\"+str(y1_out)+\"-\"+str(y2_out)+\".nc\"\n",
    "        emissions_shares_out.to_netcdf(fname_out,mode=\"w\")\n",
    "        print(fname_out)\n",
    "        \n",
    "        # we also want a list of countries with nan co2, so we can exclude them in later scripts\n",
    "        if species==\"CO2\":\n",
    "            \n",
    "            emissions_are_good = xr.DataArray(np.zeros(len(emissions_shares_out.iso)),coords=[iso_shp],dims=[\"iso_attr\"])\n",
    "            for i in emissions_shares_out.iso:\n",
    "                em = emissions_shares_out.loc[i,:]\n",
    "                emissions_are_good[list(emissions_shares_out.iso.values).index(i)] = bool(len(em) == len(em[(~np.isnan(em))&(~np.isinf(em))]))\n",
    "            \n",
    "            emissions_are_good.name = \"valid_countries\"\n",
    "            emissions_are_good.attrs[\"creation_date\"] = str(datetime.datetime.now())\n",
    "            emissions_are_good.attrs[\"created_by\"] = \"Christopher Callahan, Christopher.W.Callahan.GR@dartmouth.edu\"\n",
    "            emissions_are_good.attrs[\"variable_description\"] = \"Countries that should be included in later counts\"\n",
    "            emissions_are_good.attrs[\"created_from\"] = os.getcwd()+\"/FaIR_GHGEmissions_Input.ipynb\"\n",
    "\n",
    "            fname_out = loc_shares+\"CEDS_Valid_Countries_\"+accounting+\"_\"+str(y1_out)+\"-\"+str(y2_out)+\".nc\"\n",
    "            emissions_are_good.to_netcdf(fname_out,mode=\"w\")\n",
    "            print(fname_out)"
   ]
  },
  {
   "cell_type": "code",
   "execution_count": null,
   "metadata": {},
   "outputs": [],
   "source": []
  }
 ],
 "metadata": {
  "kernelspec": {
   "display_name": "Python-base",
   "language": "python",
   "name": "base"
  },
  "language_info": {
   "codemirror_mode": {
    "name": "ipython",
    "version": 3
   },
   "file_extension": ".py",
   "mimetype": "text/x-python",
   "name": "python",
   "nbconvert_exporter": "python",
   "pygments_lexer": "ipython3",
   "version": "3.8.8"
  }
 },
 "nbformat": 4,
 "nbformat_minor": 4
}
